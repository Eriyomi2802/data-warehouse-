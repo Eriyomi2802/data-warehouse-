{
 "cells": [
  {
   "cell_type": "code",
   "execution_count": 1,
   "id": "9b305672-f7bc-4b0e-bf77-e1f34e271d69",
   "metadata": {},
   "outputs": [],
   "source": [
    "import duckdb\n",
    "con = duckdb.connect()\n"
   ]
  },
  {
   "cell_type": "code",
   "execution_count": 2,
   "id": "73820ea6-a4ab-4113-ac70-b33969baa637",
   "metadata": {},
   "outputs": [
    {
     "data": {
      "text/plain": [
       "<_duckdb.DuckDBPyConnection at 0x1dbcd9d7f70>"
      ]
     },
     "execution_count": 2,
     "metadata": {},
     "output_type": "execute_result"
    }
   ],
   "source": [
    "con.execute(\"INSTALL httpfs; LOAD httpfs;\")\n",
    "con.execute(\"SET home_directory='..';\")\n",
    "\n",
    "con.execute(\"CREATE TABLE fact_prod AS SELECT * FROM read_csv_auto('../data/fact/fact_production.csv')\")\n",
    "con.execute(\"CREATE TABLE fact_down AS SELECT * FROM read_csv_auto('../data/fact/fact_downtime.csv')\")\n",
    "con.execute(\"CREATE TABLE dim_date AS SELECT * FROM read_csv_auto('../data/dim/dim_date.csv')\")\n",
    "con.execute(\"CREATE TABLE dim_machine AS SELECT * FROM read_csv_auto('../data/dim/dim_machine.csv')\")\n",
    "con.execute(\"CREATE TABLE dim_product AS SELECT * FROM read_csv_auto('../data/dim/dim_product.csv')\")\n"
   ]
  },
  {
   "cell_type": "code",
   "execution_count": 3,
   "id": "b1c499fb-073e-47c0-9cca-4c067b322b8a",
   "metadata": {},
   "outputs": [
    {
     "data": {
      "text/html": [
       "<div>\n",
       "<style scoped>\n",
       "    .dataframe tbody tr th:only-of-type {\n",
       "        vertical-align: middle;\n",
       "    }\n",
       "\n",
       "    .dataframe tbody tr th {\n",
       "        vertical-align: top;\n",
       "    }\n",
       "\n",
       "    .dataframe thead th {\n",
       "        text-align: right;\n",
       "    }\n",
       "</style>\n",
       "<table border=\"1\" class=\"dataframe\">\n",
       "  <thead>\n",
       "    <tr style=\"text-align: right;\">\n",
       "      <th></th>\n",
       "      <th>machine_id</th>\n",
       "      <th>year</th>\n",
       "      <th>month</th>\n",
       "      <th>oee</th>\n",
       "    </tr>\n",
       "  </thead>\n",
       "  <tbody>\n",
       "    <tr>\n",
       "      <th>0</th>\n",
       "      <td>M1</td>\n",
       "      <td>2023</td>\n",
       "      <td>1</td>\n",
       "      <td>0.378</td>\n",
       "    </tr>\n",
       "    <tr>\n",
       "      <th>1</th>\n",
       "      <td>M1</td>\n",
       "      <td>2023</td>\n",
       "      <td>2</td>\n",
       "      <td>0.583</td>\n",
       "    </tr>\n",
       "    <tr>\n",
       "      <th>2</th>\n",
       "      <td>M1</td>\n",
       "      <td>2023</td>\n",
       "      <td>3</td>\n",
       "      <td>0.378</td>\n",
       "    </tr>\n",
       "    <tr>\n",
       "      <th>3</th>\n",
       "      <td>M2</td>\n",
       "      <td>2023</td>\n",
       "      <td>1</td>\n",
       "      <td>0.383</td>\n",
       "    </tr>\n",
       "    <tr>\n",
       "      <th>4</th>\n",
       "      <td>M2</td>\n",
       "      <td>2023</td>\n",
       "      <td>2</td>\n",
       "      <td>0.450</td>\n",
       "    </tr>\n",
       "    <tr>\n",
       "      <th>5</th>\n",
       "      <td>M2</td>\n",
       "      <td>2023</td>\n",
       "      <td>3</td>\n",
       "      <td>0.448</td>\n",
       "    </tr>\n",
       "    <tr>\n",
       "      <th>6</th>\n",
       "      <td>M3</td>\n",
       "      <td>2023</td>\n",
       "      <td>1</td>\n",
       "      <td>0.461</td>\n",
       "    </tr>\n",
       "    <tr>\n",
       "      <th>7</th>\n",
       "      <td>M3</td>\n",
       "      <td>2023</td>\n",
       "      <td>2</td>\n",
       "      <td>0.466</td>\n",
       "    </tr>\n",
       "    <tr>\n",
       "      <th>8</th>\n",
       "      <td>M3</td>\n",
       "      <td>2023</td>\n",
       "      <td>3</td>\n",
       "      <td>0.370</td>\n",
       "    </tr>\n",
       "  </tbody>\n",
       "</table>\n",
       "</div>"
      ],
      "text/plain": [
       "  machine_id  year  month    oee\n",
       "0         M1  2023      1  0.378\n",
       "1         M1  2023      2  0.583\n",
       "2         M1  2023      3  0.378\n",
       "3         M2  2023      1  0.383\n",
       "4         M2  2023      2  0.450\n",
       "5         M2  2023      3  0.448\n",
       "6         M3  2023      1  0.461\n",
       "7         M3  2023      2  0.466\n",
       "8         M3  2023      3  0.370"
      ]
     },
     "execution_count": 3,
     "metadata": {},
     "output_type": "execute_result"
    }
   ],
   "source": [
    "con.execute(\"\"\"\n",
    "SELECT \n",
    "  m.machine_id,\n",
    "  d.year,\n",
    "  d.month,\n",
    "  ROUND(AVG(\n",
    "    ((p.planned_minutes - COALESCE(down.minutes_down, 0)) / p.planned_minutes) *\n",
    "    (p.units_good / p.performance_units) *\n",
    "    (p.units_good / p.units_total)\n",
    "  ), 3) AS oee\n",
    "FROM fact_prod p\n",
    "LEFT JOIN fact_down down ON p.date_sk = down.date_sk AND p.machine_sk = down.machine_sk\n",
    "JOIN dim_date d ON p.date_sk = d.date_sk\n",
    "JOIN dim_machine m ON p.machine_sk = m.machine_sk\n",
    "GROUP BY m.machine_id, d.year, d.month\n",
    "ORDER BY m.machine_id, d.year, d.month\n",
    "\"\"\").df()\n"
   ]
  },
  {
   "cell_type": "code",
   "execution_count": 5,
   "id": "a29ee49e-facf-4f69-895d-d43480786ad8",
   "metadata": {},
   "outputs": [
    {
     "data": {
      "text/html": [
       "<div>\n",
       "<style scoped>\n",
       "    .dataframe tbody tr th:only-of-type {\n",
       "        vertical-align: middle;\n",
       "    }\n",
       "\n",
       "    .dataframe tbody tr th {\n",
       "        vertical-align: top;\n",
       "    }\n",
       "\n",
       "    .dataframe thead th {\n",
       "        text-align: right;\n",
       "    }\n",
       "</style>\n",
       "<table border=\"1\" class=\"dataframe\">\n",
       "  <thead>\n",
       "    <tr style=\"text-align: right;\">\n",
       "      <th></th>\n",
       "      <th>count(DISTINCT sku)</th>\n",
       "    </tr>\n",
       "  </thead>\n",
       "  <tbody>\n",
       "    <tr>\n",
       "      <th>0</th>\n",
       "      <td>3</td>\n",
       "    </tr>\n",
       "  </tbody>\n",
       "</table>\n",
       "</div>"
      ],
      "text/plain": [
       "   count(DISTINCT sku)\n",
       "0                    3"
      ]
     },
     "execution_count": 5,
     "metadata": {},
     "output_type": "execute_result"
    }
   ],
   "source": [
    "con.execute(\"SELECT COUNT(DISTINCT sku) FROM dim_product\").df()\n"
   ]
  },
  {
   "cell_type": "code",
   "execution_count": 6,
   "id": "0482e3a5-e4a3-435b-a39e-7bb3132122f2",
   "metadata": {},
   "outputs": [
    {
     "data": {
      "text/html": [
       "<div>\n",
       "<style scoped>\n",
       "    .dataframe tbody tr th:only-of-type {\n",
       "        vertical-align: middle;\n",
       "    }\n",
       "\n",
       "    .dataframe tbody tr th {\n",
       "        vertical-align: top;\n",
       "    }\n",
       "\n",
       "    .dataframe thead th {\n",
       "        text-align: right;\n",
       "    }\n",
       "</style>\n",
       "<table border=\"1\" class=\"dataframe\">\n",
       "  <thead>\n",
       "    <tr style=\"text-align: right;\">\n",
       "      <th></th>\n",
       "      <th>count(DISTINCT product_sk)</th>\n",
       "    </tr>\n",
       "  </thead>\n",
       "  <tbody>\n",
       "    <tr>\n",
       "      <th>0</th>\n",
       "      <td>3</td>\n",
       "    </tr>\n",
       "  </tbody>\n",
       "</table>\n",
       "</div>"
      ],
      "text/plain": [
       "   count(DISTINCT product_sk)\n",
       "0                           3"
      ]
     },
     "execution_count": 6,
     "metadata": {},
     "output_type": "execute_result"
    }
   ],
   "source": [
    "con.execute(\"SELECT COUNT(DISTINCT product_sk) FROM fact_prod\").df()\n"
   ]
  },
  {
   "cell_type": "code",
   "execution_count": 7,
   "id": "002d9eea-1d17-45d9-ad95-283debd86672",
   "metadata": {},
   "outputs": [
    {
     "data": {
      "text/html": [
       "<div>\n",
       "<style scoped>\n",
       "    .dataframe tbody tr th:only-of-type {\n",
       "        vertical-align: middle;\n",
       "    }\n",
       "\n",
       "    .dataframe tbody tr th {\n",
       "        vertical-align: top;\n",
       "    }\n",
       "\n",
       "    .dataframe thead th {\n",
       "        text-align: right;\n",
       "    }\n",
       "</style>\n",
       "<table border=\"1\" class=\"dataframe\">\n",
       "  <thead>\n",
       "    <tr style=\"text-align: right;\">\n",
       "      <th></th>\n",
       "      <th>sku</th>\n",
       "      <th>avg_performance</th>\n",
       "    </tr>\n",
       "  </thead>\n",
       "  <tbody>\n",
       "    <tr>\n",
       "      <th>0</th>\n",
       "      <td>P1</td>\n",
       "      <td>0.508</td>\n",
       "    </tr>\n",
       "    <tr>\n",
       "      <th>1</th>\n",
       "      <td>P3</td>\n",
       "      <td>0.488</td>\n",
       "    </tr>\n",
       "    <tr>\n",
       "      <th>2</th>\n",
       "      <td>P2</td>\n",
       "      <td>0.440</td>\n",
       "    </tr>\n",
       "  </tbody>\n",
       "</table>\n",
       "</div>"
      ],
      "text/plain": [
       "  sku  avg_performance\n",
       "0  P1            0.508\n",
       "1  P3            0.488\n",
       "2  P2            0.440"
      ]
     },
     "execution_count": 7,
     "metadata": {},
     "output_type": "execute_result"
    }
   ],
   "source": [
    "#top 5 des produits les plus performants\n",
    "con.execute(\"\"\"\n",
    "SELECT \n",
    "  pr.sku,\n",
    "  ROUND(AVG(p.units_good / p.performance_units), 3) AS avg_performance\n",
    "FROM fact_prod p\n",
    "JOIN dim_product pr ON p.product_sk = pr.product_sk\n",
    "GROUP BY pr.sku\n",
    "ORDER BY avg_performance DESC\n",
    "LIMIT 3\n",
    "\"\"\").df()\n"
   ]
  },
  {
   "cell_type": "code",
   "execution_count": null,
   "id": "de150dcc-53ab-4268-b523-c1abf5f7a835",
   "metadata": {},
   "outputs": [],
   "source": []
  }
 ],
 "metadata": {
  "kernelspec": {
   "display_name": "Python 3 (ipykernel)",
   "language": "python",
   "name": "python3"
  },
  "language_info": {
   "codemirror_mode": {
    "name": "ipython",
    "version": 3
   },
   "file_extension": ".py",
   "mimetype": "text/x-python",
   "name": "python",
   "nbconvert_exporter": "python",
   "pygments_lexer": "ipython3",
   "version": "3.11.3"
  }
 },
 "nbformat": 4,
 "nbformat_minor": 5
}
