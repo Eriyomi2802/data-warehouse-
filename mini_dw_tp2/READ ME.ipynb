{
 "cells": [
  {
   "cell_type": "markdown",
   "id": "cb575eba-e0f1-4b2b-9615-563a605e4e71",
   "metadata": {},
   "source": [
    "# 🧾 Rapport Final — Mini Data Warehouse TP2\n",
    "\n",
    "## Réalisé par : CAKPOSSE Eriyomi Phestèce Chancelle-Hélène\n"
   ]
  },
  {
   "cell_type": "markdown",
   "id": "22cd5fa2-3e7b-456b-99e4-96523c125c94",
   "metadata": {},
   "source": [
    "## 🎯 Objectif du projet\n",
    "\n",
    "Ce TP vise à construire un mini Data Warehouse simulé, en suivant toutes les étapes d’un pipeline ETL : génération de données, nettoyage, modélisation en étoile, automatisation, visualisation et requêtage SQL.  \n",
    "L’objectif est de comprendre les fondements d’un entrepôt de données et de manipuler des outils concrets comme pandas, DuckDB et matplotlib.\n"
   ]
  },
  {
   "cell_type": "markdown",
   "id": "42e37d6a-65ab-45be-8071-7d75025826c9",
   "metadata": {},
   "source": [
    "## 🏗️ Architecture du projet\n",
    "\n",
    "Le projet est structuré en plusieurs dossiers :\n",
    "\n",
    "- `data/raw` : données simulées (production, pannes)\n",
    "- `data/staging` : données nettoyées et enrichies\n",
    "- `data/dim` : dimensions (date, machine, produit)\n",
    "- `data/fact` : faits (production, downtime)\n",
    "- `src/etl` : scripts Python pour chaque étape\n",
    "- `notebooks` : exploration, visualisation, requêtes SQL\n"
   ]
  },
  {
   "cell_type": "markdown",
   "id": "e835e183-75a3-43cd-9cb0-2c814800e101",
   "metadata": {},
   "source": [
    "## ⚙️ Pipeline ETL\n",
    "\n",
    "### a. Génération des données (`generate_raw.py`)\n",
    "- Simulation de 90 jours de production pour 3 machines et 3 produits\n",
    "- Données de production et de pannes générées aléatoirement\n",
    "\n",
    "### b. Nettoyage et enrichissement (`staging.py`)\n",
    "- Calcul des unités bonnes, performance théorique, disponibilité\n",
    "- Agrégation des pannes par jour et machine\n",
    "\n",
    "### c. Modélisation en étoile (`build_dimensions.py`)\n",
    "- Création des dimensions avec clés substitutives\n",
    "- Enrichissement de la dimension date (année, mois, jour, jour de semaine)\n",
    "\n",
    "### d. Construction des faits (`build_facts.py`)\n",
    "- Jointures avec les dimensions\n",
    "- Création des tables de faits prêtes pour l’analyse\n",
    "\n",
    "### e. Orchestration (`run_all.py`)\n",
    "- Exécution automatique de toutes les étapes du pipeline\n"
   ]
  },
  {
   "cell_type": "markdown",
   "id": "7d5627ba-edbc-4779-9f3d-ec6de9130c2b",
   "metadata": {},
   "source": [
    "## 📊 Visualisation des indicateurs\n",
    "\n",
    "### a. OEE mensuel par machine (`visualisation.ipynb`)\n",
    "- Calcul de l’OEE : disponibilité × performance × qualité\n",
    "- Tracé de l’évolution mensuelle par machine\n",
    "\n",
    "### b. Exploration des données (`traitements.ipynb`)\n",
    "- Vérification des données à chaque étape\n",
    "- Statistiques descriptives et contrôles qualité\n"
   ]
  },
  {
   "cell_type": "markdown",
   "id": "a487ff18-1138-4dd1-a99c-24e36bd4909c",
   "metadata": {},
   "source": [
    "## 🧠 Requêtes SQL analytiques\n",
    "\n",
    "### a. Top produits les plus performants (`requetes_duckdb.ipynb`)\n",
    "- Requête SQL pour identifier les produits avec la meilleure performance moyenne\n",
    "\n",
    "### b. Requête OEE par machine et mois\n",
    "- Agrégation SQL pour reproduire la visualisation en mode analytique\n",
    "\n",
    "### c. Requête personnalisée (optionnelle)\n",
    "- Possibilité d’ajouter des requêtes pour détecter les machines en sous-performance ou analyser les pannes\n"
   ]
  },
  {
   "cell_type": "markdown",
   "id": "f4e0c910-c37c-4bdc-a8d9-6cef92854601",
   "metadata": {},
   "source": [
    "## 📌 Résultats et observations\n",
    "\n",
    "- Les machines ont des performances variables selon les mois\n",
    "- Le produit P1 est le plus performant dans cette simulation\n",
    "- Le pipeline est entièrement automatisé et reproductible\n",
    "- DuckDB permet des requêtes SQL rapides directement sur les fichiers CSV\n"
   ]
  },
  {
   "cell_type": "markdown",
   "id": "71dec50b-1635-4e38-9ad3-bfa9cf48eee4",
   "metadata": {},
   "source": [
    "## 🧪 Limites et extensions possibles\n",
    "\n",
    "- Simulation simple : pas de saisonnalité ni de logique métier\n",
    "- Possibilité d’ajouter des dimensions supplémentaires (opérateurs, lignes de production)\n",
    "- Intégration future avec une base SQL ou un outil BI\n"
   ]
  },
  {
   "cell_type": "markdown",
   "id": "36a0c8f8-0fda-4e82-8183-bd86228e2019",
   "metadata": {},
   "source": [
    "## 👩‍💻 Conclusion\n",
    "\n",
    "Ce projet m’a permis de consolider mes compétences en :\n",
    "\n",
    "- Structuration de projet analytique\n",
    "- Manipulation de données avec pandas\n",
    "- Modélisation en étoile\n",
    "- Automatisation avec Python\n",
    "- Visualisation et requêtage SQL\n",
    "\n",
    "Il constitue une base solide pour aborder des projets industriels plus complexes en Big Data et Intelligence Artificielle.\n"
   ]
  },
  {
   "cell_type": "code",
   "execution_count": null,
   "id": "a35eeb25-9b9d-42a3-863a-66ffb766db8d",
   "metadata": {},
   "outputs": [],
   "source": []
  }
 ],
 "metadata": {
  "kernelspec": {
   "display_name": "Python 3 (ipykernel)",
   "language": "python",
   "name": "python3"
  },
  "language_info": {
   "codemirror_mode": {
    "name": "ipython",
    "version": 3
   },
   "file_extension": ".py",
   "mimetype": "text/x-python",
   "name": "python",
   "nbconvert_exporter": "python",
   "pygments_lexer": "ipython3",
   "version": "3.11.3"
  }
 },
 "nbformat": 4,
 "nbformat_minor": 5
}
